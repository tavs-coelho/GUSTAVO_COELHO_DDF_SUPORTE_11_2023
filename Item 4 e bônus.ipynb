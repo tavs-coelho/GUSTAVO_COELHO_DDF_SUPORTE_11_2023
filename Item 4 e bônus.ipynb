{
 "cells": [
  {
   "cell_type": "markdown",
   "metadata": {},
   "source": [
    "Link da visualização: https://drive.google.com/file/d/1Rayn8pVB8CR-cVrtqjojpXCBOomQj29n/view?usp=sharing. Query SQL utilizada: SELECT \"PUBLIC\".\"TB__8Y3C3Y__EMPLOYEE\".\"JOBROLE\" AS \"JOBROLE\", COUNT(*) AS \"count\"\n",
    "FROM \"DADOSFERA_PRD_TREINAMENTOS\".\"PUBLIC\".\"TB__8Y3C3Y__EMPLOYEE\"\n",
    "GROUP BY \"PUBLIC\".\"TB__8Y3C3Y__EMPLOYEE\".\"JOBROLE\"\n",
    "ORDER BY \"PUBLIC\".\"TB__8Y3C3Y__EMPLOYEE\".\"JOBROLE\" ASC\n",
    "\n",
    "Item bônus - https://metabase-treinamentos.dadosfera.ai/dashboard/62-dashboard"
   ]
  }
 ],
 "metadata": {
  "language_info": {
   "name": "python"
  }
 },
 "nbformat": 4,
 "nbformat_minor": 2
}
